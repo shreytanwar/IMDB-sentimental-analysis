{
  "nbformat": 4,
  "nbformat_minor": 0,
  "metadata": {
    "colab": {
      "name": "IMDB-sentimental-analysis.ipynb",
      "provenance": [],
      "toc_visible": true,
      "authorship_tag": "ABX9TyPj8PlQQnCOnmA3ZfYp5mGo",
      "include_colab_link": true
    },
    "kernelspec": {
      "name": "python3",
      "display_name": "Python 3"
    }
  },
  "cells": [
    {
      "cell_type": "markdown",
      "metadata": {
        "id": "view-in-github",
        "colab_type": "text"
      },
      "source": [
        "<a href=\"https://colab.research.google.com/github/shreytanwar/IMDB-sentimental-analysis/blob/main/IMDB_sentimental_analysis.ipynb\" target=\"_parent\"><img src=\"https://colab.research.google.com/assets/colab-badge.svg\" alt=\"Open In Colab\"/></a>"
      ]
    },
    {
      "cell_type": "code",
      "metadata": {
        "id": "5PYO3bZu_T3a"
      },
      "source": [
        "from keras.datasets import imdb\n",
        "\n",
        "import numpy as np\n",
        "\n",
        "import matplotlib.pyplot as plt"
      ],
      "execution_count": 1,
      "outputs": []
    },
    {
      "cell_type": "code",
      "metadata": {
        "id": "hmVifCvI_ZSE"
      },
      "source": [
        "(X_train,Y_train),(X_test, Y_test) = imdb.load_data(num_words = 10000)"
      ],
      "execution_count": 2,
      "outputs": []
    },
    {
      "cell_type": "code",
      "metadata": {
        "id": "Qz8JHOZO_ZU1",
        "outputId": "b7ce4cf0-ad51-4a39-c91f-ef699a9068e7",
        "colab": {
          "base_uri": "https://localhost:8080/",
          "height": 70
        }
      },
      "source": [
        "print(len(X_train))\n",
        "print(X_train[0])"
      ],
      "execution_count": 3,
      "outputs": [
        {
          "output_type": "stream",
          "text": [
            "25000\n",
            "[1, 14, 22, 16, 43, 530, 973, 1622, 1385, 65, 458, 4468, 66, 3941, 4, 173, 36, 256, 5, 25, 100, 43, 838, 112, 50, 670, 2, 9, 35, 480, 284, 5, 150, 4, 172, 112, 167, 2, 336, 385, 39, 4, 172, 4536, 1111, 17, 546, 38, 13, 447, 4, 192, 50, 16, 6, 147, 2025, 19, 14, 22, 4, 1920, 4613, 469, 4, 22, 71, 87, 12, 16, 43, 530, 38, 76, 15, 13, 1247, 4, 22, 17, 515, 17, 12, 16, 626, 18, 2, 5, 62, 386, 12, 8, 316, 8, 106, 5, 4, 2223, 5244, 16, 480, 66, 3785, 33, 4, 130, 12, 16, 38, 619, 5, 25, 124, 51, 36, 135, 48, 25, 1415, 33, 6, 22, 12, 215, 28, 77, 52, 5, 14, 407, 16, 82, 2, 8, 4, 107, 117, 5952, 15, 256, 4, 2, 7, 3766, 5, 723, 36, 71, 43, 530, 476, 26, 400, 317, 46, 7, 4, 2, 1029, 13, 104, 88, 4, 381, 15, 297, 98, 32, 2071, 56, 26, 141, 6, 194, 7486, 18, 4, 226, 22, 21, 134, 476, 26, 480, 5, 144, 30, 5535, 18, 51, 36, 28, 224, 92, 25, 104, 4, 226, 65, 16, 38, 1334, 88, 12, 16, 283, 5, 16, 4472, 113, 103, 32, 15, 16, 5345, 19, 178, 32]\n"
          ],
          "name": "stdout"
        }
      ]
    },
    {
      "cell_type": "code",
      "metadata": {
        "id": "JZ5Px8_L_ZXH"
      },
      "source": [
        "vocab = imdb.get_word_index()\n",
        "# vocab.items = dictionary"
      ],
      "execution_count": 4,
      "outputs": []
    },
    {
      "cell_type": "code",
      "metadata": {
        "id": "doBw2_atAuOD"
      },
      "source": [
        "rev_vocab = dict( [[value,key] for (key,value) in vocab.items()])"
      ],
      "execution_count": 5,
      "outputs": []
    },
    {
      "cell_type": "code",
      "metadata": {
        "id": "xIjkosty_ZZr"
      },
      "source": [
        "def print_rev(review):\n",
        "  rev = ' '.join([rev_vocab.get(r - 3, '?') for r in review ])\n",
        "  return rev"
      ],
      "execution_count": 6,
      "outputs": []
    },
    {
      "cell_type": "code",
      "metadata": {
        "id": "AoiU9R1I_ZcM",
        "outputId": "96e6f9b4-2914-47e9-c95f-5a426b27c350",
        "colab": {
          "base_uri": "https://localhost:8080/",
          "height": 54
        }
      },
      "source": [
        "print(print_rev(X_train[0]))"
      ],
      "execution_count": 7,
      "outputs": [
        {
          "output_type": "stream",
          "text": [
            "? this film was just brilliant casting location scenery story direction everyone's really suited the part they played and you could just imagine being there robert ? is an amazing actor and now the same being director ? father came from the same scottish island as myself so i loved the fact there was a real connection with this film the witty remarks throughout the film were great it was just brilliant so much that i bought the film as soon as it was released for ? and would recommend it to everyone to watch and the fly fishing was amazing really cried at the end it was so sad and you know what they say if you cry at a film it must have been good and this definitely was also ? to the two little boy's that played the ? of norman and paul they were just brilliant children are often left out of the ? list i think because the stars that play them all grown up are such a big profile for the whole film but these children are amazing and should be praised for what they have done don't you think the whole story was so lovely because it was true and was someone's life after all that was shared with us all\n"
          ],
          "name": "stdout"
        }
      ]
    },
    {
      "cell_type": "markdown",
      "metadata": {
        "id": "ago81RqcA9WX"
      },
      "source": [
        "##Data Vectorisation"
      ]
    },
    {
      "cell_type": "code",
      "metadata": {
        "id": "EWJxGiGE_Zjz"
      },
      "source": [
        "def vectorize(sentences, dim = 10000):\n",
        "  out = np.zeros((len(sentences), dim ))\n",
        "\n",
        "  for i, idx in enumerate(sentences):\n",
        "    out[i,idx] = 1\n",
        "\n",
        "  return out"
      ],
      "execution_count": 8,
      "outputs": []
    },
    {
      "cell_type": "code",
      "metadata": {
        "id": "nNGM1s30_ZmG"
      },
      "source": [
        "x_train = vectorize(X_train)\n",
        "x_test = vectorize(X_test)"
      ],
      "execution_count": 9,
      "outputs": []
    },
    {
      "cell_type": "code",
      "metadata": {
        "id": "alN4EFSzFTmX",
        "outputId": "e824958f-6d12-4703-bdbe-320d897cf5ad",
        "colab": {
          "base_uri": "https://localhost:8080/",
          "height": 34
        }
      },
      "source": [
        "x_train.shape"
      ],
      "execution_count": 10,
      "outputs": [
        {
          "output_type": "execute_result",
          "data": {
            "text/plain": [
              "(25000, 10000)"
            ]
          },
          "metadata": {
            "tags": []
          },
          "execution_count": 10
        }
      ]
    },
    {
      "cell_type": "code",
      "metadata": {
        "id": "G1vP_nhD_Zox"
      },
      "source": [
        "y_train = np.asarray(Y_train).astype('float32')\n",
        "y_test = np.asarray(Y_test).astype('float32')"
      ],
      "execution_count": 11,
      "outputs": []
    },
    {
      "cell_type": "markdown",
      "metadata": {
        "id": "CKq77YRpB_8c"
      },
      "source": [
        "##Neural Network"
      ]
    },
    {
      "cell_type": "code",
      "metadata": {
        "id": "Mh_lGTEJB8d5"
      },
      "source": [
        "from keras.layers import Dense\n",
        "from keras.layers import Dropout\n",
        "from keras. models import Sequential"
      ],
      "execution_count": 12,
      "outputs": []
    },
    {
      "cell_type": "code",
      "metadata": {
        "id": "6LfJmEsH_Zq1"
      },
      "source": [
        "model = Sequential()\n",
        "\n",
        "model.add(Dense(16, activation ='relu', input_shape= (10000,)))\n",
        "\n",
        "model.add(Dropout (rate = 0.25))\n",
        "model.add(Dense(50, activation = \"relu\"))\n",
        "model.add(Dropout(rate = 0.2))\n",
        "model.add(Dense(50, activation = \"relu\"))\n",
        "\n",
        "model.compile(optimizer='adam', loss = 'binary_crossentropy', metrics =['accuracy'])"
      ],
      "execution_count": 13,
      "outputs": []
    },
    {
      "cell_type": "code",
      "metadata": {
        "id": "xpvpcrnB_ZtQ",
        "outputId": "b63e0074-6e8f-4908-916c-e3a08ad5f4f0",
        "colab": {
          "base_uri": "https://localhost:8080/",
          "height": 319
        }
      },
      "source": [
        "model.summary()"
      ],
      "execution_count": 14,
      "outputs": [
        {
          "output_type": "stream",
          "text": [
            "Model: \"sequential\"\n",
            "_________________________________________________________________\n",
            "Layer (type)                 Output Shape              Param #   \n",
            "=================================================================\n",
            "dense (Dense)                (None, 16)                160016    \n",
            "_________________________________________________________________\n",
            "dropout (Dropout)            (None, 16)                0         \n",
            "_________________________________________________________________\n",
            "dense_1 (Dense)              (None, 50)                850       \n",
            "_________________________________________________________________\n",
            "dropout_1 (Dropout)          (None, 50)                0         \n",
            "_________________________________________________________________\n",
            "dense_2 (Dense)              (None, 50)                2550      \n",
            "=================================================================\n",
            "Total params: 163,416\n",
            "Trainable params: 163,416\n",
            "Non-trainable params: 0\n",
            "_________________________________________________________________\n"
          ],
          "name": "stdout"
        }
      ]
    },
    {
      "cell_type": "code",
      "metadata": {
        "id": "V0zNuXVy_Zvg"
      },
      "source": [
        "x_valid = x_train[:5000]\n",
        "x_train_new = x_train[5000:]\n",
        "\n",
        "y_valid = y_train[:5000]\n",
        "y_train_new =y_train[5000:]"
      ],
      "execution_count": 15,
      "outputs": []
    },
    {
      "cell_type": "code",
      "metadata": {
        "id": "Pbq42CqkFdFv",
        "outputId": "2538e6b2-7df6-4db1-aceb-d2f16df07008",
        "colab": {
          "base_uri": "https://localhost:8080/",
          "height": 34
        }
      },
      "source": [
        "x_valid.shape"
      ],
      "execution_count": 16,
      "outputs": [
        {
          "output_type": "execute_result",
          "data": {
            "text/plain": [
              "(5000, 10000)"
            ]
          },
          "metadata": {
            "tags": []
          },
          "execution_count": 16
        }
      ]
    },
    {
      "cell_type": "code",
      "metadata": {
        "id": "E2vQvnSP_ZyH",
        "outputId": "f382c408-7c00-4de2-a9fa-ce9e3cc4fec6",
        "colab": {
          "base_uri": "https://localhost:8080/",
          "height": 185
        }
      },
      "source": [
        "hist = model.fit(x_train_new,y_train_new,batch_size=512,epochs=5,validation_data=(x_valid,y_valid))"
      ],
      "execution_count": 17,
      "outputs": [
        {
          "output_type": "stream",
          "text": [
            "Epoch 1/5\n",
            "40/40 [==============================] - 2s 48ms/step - loss: 3.0736 - accuracy: 0.1209 - val_loss: 1.2694 - val_accuracy: 0.1866\n",
            "Epoch 2/5\n",
            "40/40 [==============================] - 1s 31ms/step - loss: 1.2671 - accuracy: 0.0478 - val_loss: 0.7548 - val_accuracy: 0.0086\n",
            "Epoch 3/5\n",
            "40/40 [==============================] - 1s 31ms/step - loss: 0.8014 - accuracy: 0.0503 - val_loss: 0.6541 - val_accuracy: 0.0148\n",
            "Epoch 4/5\n",
            "40/40 [==============================] - 1s 31ms/step - loss: 0.6473 - accuracy: 0.0268 - val_loss: 0.5446 - val_accuracy: 0.0056\n",
            "Epoch 5/5\n",
            "40/40 [==============================] - 1s 30ms/step - loss: 0.5496 - accuracy: 0.0312 - val_loss: 0.4831 - val_accuracy: 0.0368\n"
          ],
          "name": "stdout"
        }
      ]
    },
    {
      "cell_type": "markdown",
      "metadata": {
        "id": "NW3laSbcDt3I"
      },
      "source": [
        "##Visualize Results"
      ]
    },
    {
      "cell_type": "code",
      "metadata": {
        "id": "W21CtLJW_Z0X",
        "outputId": "0ea13dcc-86c8-4b8e-d865-6b6785935179",
        "colab": {
          "base_uri": "https://localhost:8080/",
          "height": 296
        }
      },
      "source": [
        "h = hist.history\n",
        "\n",
        "plt.plot(h['val_loss'], label = 'Validation loss')\n",
        "plt.plot(h['loss'], label = 'Training loss')\n",
        "plt.legend()\n",
        "plt.xlabel('Epochs')\n",
        "plt.ylabel('Loss')\n",
        "plt.show"
      ],
      "execution_count": 18,
      "outputs": [
        {
          "output_type": "execute_result",
          "data": {
            "text/plain": [
              "<function matplotlib.pyplot.show>"
            ]
          },
          "metadata": {
            "tags": []
          },
          "execution_count": 18
        },
        {
          "output_type": "display_data",
          "data": {
            "image/png": "[encoded data removed]",
            "text/plain": [
              "<Figure size 432x288 with 1 Axes>"
            ]
          },
          "metadata": {
            "tags": [],
            "needs_background": "light"
          }
        }
      ]
    },
    {
      "cell_type": "code",
      "metadata": {
        "id": "Lm_n50snEJfF",
        "outputId": "c949c18d-b01c-47d1-c5a3-b921bd3eca1a",
        "colab": {
          "base_uri": "https://localhost:8080/",
          "height": 296
        }
      },
      "source": [
        "plt.plot(h['val_accuracy'], label = 'Validation accuracy')\n",
        "plt.plot(h['accuracy'], label = 'Training accuracy')\n",
        "plt.legend()\n",
        "plt.xlabel('Epochs')\n",
        "plt.ylabel('Accuracy')\n",
        "plt.show"
      ],
      "execution_count": 19,
      "outputs": [
        {
          "output_type": "execute_result",
          "data": {
            "text/plain": [
              "<function matplotlib.pyplot.show>"
            ]
          },
          "metadata": {
            "tags": []
          },
          "execution_count": 19
        },
        {
          "output_type": "display_data",
          "data": {
            "image/png": "[encoded data removed]",
            "text/plain": [
              "<Figure size 432x288 with 1 Axes>"
            ]
          },
          "metadata": {
            "tags": [],
            "needs_background": "light"
          }
        }
      ]
    },
    {
      "cell_type": "code",
      "metadata": {
        "id": "CjzZYr-cEmVa"
      },
      "source": [
        "model.save('imdb_sa.h5')"
      ],
      "execution_count": 20,
      "outputs": []
    },
    {
      "cell_type": "code",
      "metadata": {
        "id": "fS11pqfmIROl"
      },
      "source": [
        ""
      ],
      "execution_count": null,
      "outputs": []
    }
  ]
}